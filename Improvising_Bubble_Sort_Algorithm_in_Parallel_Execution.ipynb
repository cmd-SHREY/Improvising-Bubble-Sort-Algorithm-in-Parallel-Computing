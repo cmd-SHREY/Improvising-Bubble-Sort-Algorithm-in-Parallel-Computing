{
  "cells": [
    {
      "cell_type": "code",
      "execution_count": null,
      "metadata": {
        "collapsed": true,
        "id": "CTwW5KOTol8F"
      },
      "outputs": [],
      "source": []
    },
    {
      "cell_type": "markdown",
      "metadata": {
        "id": "sPGrwGWYomfq"
      },
      "source": [
        "# Improvising Bubble Sort Algorithm in Parallel Execution"
      ]
    },
    {
      "cell_type": "code",
      "execution_count": null,
      "metadata": {
        "collapsed": true,
        "id": "QiIkVQwjZYaX"
      },
      "outputs": [],
      "source": [
        "def bubblesort(X):\n",
        "    N = len(X)\n",
        "    for end in range(N, 1, -1):\n",
        "        for i in range(end - 1):\n",
        "            cur = X[i]\n",
        "            if cur > X[i + 1]:\n",
        "                tmp = X[i]\n",
        "                X[i] = X[i + 1]\n",
        "                X[i + 1] = tmp"
      ]
    },
    {
      "cell_type": "markdown",
      "metadata": {
        "id": "tswCJgWaolMs"
      },
      "source": []
    },
    {
      "cell_type": "code",
      "execution_count": null,
      "metadata": {
        "collapsed": true,
        "id": "MH6XuNFLZUHX"
      },
      "outputs": [],
      "source": [
        "import numpy as np\n",
        "original = np.arange(0.0, 10.0, 0.01, dtype='f4')\n",
        "shuffled = original.copy()\n",
        "np.random.shuffle(shuffled)"
      ]
    },
    {
      "cell_type": "code",
      "execution_count": null,
      "metadata": {
        "id": "1iBHpIE4ZPzY",
        "outputId": "b6fd9d6f-ca5b-466c-cb1f-8ac28ac97938"
      },
      "outputs": [
        {
          "name": "stdout",
          "output_type": "stream",
          "text": [
            "True\n"
          ]
        }
      ],
      "source": [
        "sorted = shuffled.copy()\n",
        "bubblesort(sorted)\n",
        "print(np.array_equal(sorted, original))"
      ]
    },
    {
      "cell_type": "code",
      "execution_count": null,
      "metadata": {
        "id": "LPorcJ2fY9Hh",
        "outputId": "66a87472-533a-499f-f931-dbf41c266a99"
      },
      "outputs": [
        {
          "name": "stdout",
          "output_type": "stream",
          "text": [
            "179 ms ± 673 µs per loop (mean ± std. dev. of 7 runs, 10 loops each)\n"
          ]
        }
      ],
      "source": [
        "%timeit sorted[:] = shuffled[:]; bubblesort(sorted)\n"
      ]
    },
    {
      "cell_type": "code",
      "execution_count": null,
      "metadata": {
        "collapsed": true,
        "id": "7MDA5jUgYpaz"
      },
      "outputs": [],
      "source": [
        "#Complete the Solution to Q1 (i) here.\n",
        "\n",
        "from numba import jit, int32\n",
        "\n",
        "@jit\n",
        "def bubblesort(X):\n",
        "    N = len(X)\n",
        "    for end in range(N, 1, -1):\n",
        "        for i in range(end - 1):\n",
        "            cur = X[i]\n",
        "            if cur > X[i + 1]:\n",
        "                tmp = X[i]\n",
        "                X[i] = X[i + 1]\n",
        "                X[i + 1] = tmp"
      ]
    },
    {
      "cell_type": "code",
      "execution_count": null,
      "metadata": {
        "id": "YuXB6DOcY3bH",
        "outputId": "e2b6dbc3-4192-4c66-ee8c-b8302dac5d90"
      },
      "outputs": [
        {
          "name": "stdout",
          "output_type": "stream",
          "text": [
            "645 µs ± 2.88 µs per loop (mean ± std. dev. of 7 runs, 1000 loops each)\n"
          ]
        }
      ],
      "source": [
        "#Measure the time of your optimized implementation by running this cell\n",
        "\n",
        "%timeit sorted[:] = shuffled[:]; bubblesort(sorted)"
      ]
    },
    {
      "cell_type": "code",
      "execution_count": null,
      "metadata": {
        "id": "syhWi7CgohN5"
      },
      "outputs": [],
      "source": [
        "#Complete the Solution to Q1 (i) here.\n",
        "from numba import jit, int32, void\n",
        "\n",
        "@jit(void(int32))\n",
        "def bubblesort(X):\n",
        "    N = len(X)\n",
        "    for end in range(N, 1, -1):\n",
        "        for i in range(end - 1):\n",
        "            cur = X[i]\n",
        "            if cur > X[i + 1]:\n",
        "                tmp = X[i]\n",
        "                X[i] = X[i + 1]\n",
        "                X[i + 1] = tmp"
      ]
    },
    {
      "cell_type": "code",
      "execution_count": null,
      "metadata": {
        "id": "Yjt7W7d4XbZ4",
        "outputId": "95d50649-3ecf-4fc6-8a79-f8d4a583953a"
      },
      "outputs": [
        {
          "name": "stdout",
          "output_type": "stream",
          "text": [
            "750 µs ± 3.07 µs per loop (mean ± std. dev. of 7 runs, 1000 loops each)\n"
          ]
        }
      ],
      "source": [
        "#Measure the time of your optimized implementation by running this cell\n",
        "%timeit sorted[:] = shuffled[:]; bubblesort(sorted)"
      ]
    },
    {
      "cell_type": "markdown",
      "metadata": {
        "id": "nKGykwJfoino"
      },
      "source": [
        "# Q2."
      ]
    },
    {
      "cell_type": "code",
      "execution_count": null,
      "metadata": {
        "collapsed": true,
        "id": "bV8PfHmSofpG"
      },
      "outputs": [],
      "source": [
        "from scipy.stats import pareto\n",
        "import matplotlib.pyplot as plt\n",
        "\n",
        "import numpy as np\n",
        "import math\n",
        "from numba import vectorize,float64, cuda\n",
        "\n",
        "fig, ax = plt.subplots(1, 1)"
      ]
    },
    {
      "cell_type": "code",
      "execution_count": null,
      "metadata": {
        "collapsed": true,
        "id": "PwPuIvpUov8D"
      },
      "outputs": [],
      "source": [
        "b=2.62\n",
        "#x = np.linspace(1.0, 5.7, 100)\n",
        "\n",
        "x = np.linspace(1.0, 5.7, 1000000) # Taking this value will give the proper time difference."
      ]
    },
    {
      "cell_type": "code",
      "execution_count": null,
      "metadata": {
        "colab": {
          "base_uri": "https://localhost:8080/",
          "height": 392
        },
        "id": "WBU2TndBo9CZ",
        "outputId": "cea91fc2-2b69-4d69-f05e-d33cb25a03ae"
      },
      "outputs": [
        {
          "name": "stdout",
          "output_type": "stream",
          "text": [
            "114 ms ± 207 µs per loop (mean ± std. dev. of 7 runs, 10 loops each)\n"
          ]
        }
      ],
      "source": [
        "#Run this cell to know the time taken by original scipy implementation.\n",
        "%timeit pareto.pdf(x, b)"
      ]
    },
    {
      "cell_type": "code",
      "execution_count": null,
      "metadata": {
        "collapsed": true,
        "id": "_1GSU-3yo_Yh"
      },
      "outputs": [],
      "source": [
        "# Write your code here for CPU_BASED optimization. Give new name as pareto_new_cpu()\n",
        "from numba import vectorize,float64, cuda\n",
        "@vectorize\n",
        "def pareto_new_cpu(x,b):\n",
        "    return b/(x**(b+1))\n",
        "fig, ax = plt.subplots(1, 1)"
      ]
    },
    {
      "cell_type": "code",
      "execution_count": null,
      "metadata": {
        "id": "HgmR8XGKXbZ5",
        "outputId": "8fde681d-4c58-442b-a7f1-e44704af382c"
      },
      "outputs": [
        {
          "name": "stdout",
          "output_type": "stream",
          "text": [
            "61.5 ms ± 76.1 µs per loop (mean ± std. dev. of 7 runs, 10 loops each)\n"
          ]
        }
      ],
      "source": [
        "# Run this cell to check the performance of above implementation.\n",
        "\n",
        "%timeit pareto_new_cpu(x,b)"
      ]
    },
    {
      "cell_type": "code",
      "execution_count": null,
      "metadata": {
        "collapsed": true,
        "id": "5GaUHduDXbZ5"
      },
      "outputs": [],
      "source": [
        "# Write your code here for GPU_BASED optimization. Give new name as pareto_new_gpu()\n",
        "\n",
        "@vectorize(['float64(float64, float64)'], target='cuda')\n",
        "def pareto_new_gpu(x,y):\n",
        "    return b/(x**(b+1))\n",
        "fig, ax = plt.subplots(1, 1)"
      ]
    },
    {
      "cell_type": "code",
      "execution_count": null,
      "metadata": {
        "id": "9Y6B_gS5XbZ5",
        "outputId": "c7cf0d73-94a3-47ec-cca1-7f4b29b434c1"
      },
      "outputs": [
        {
          "name": "stdout",
          "output_type": "stream",
          "text": [
            "8.8 ms ± 1.11 ms per loop (mean ± std. dev. of 7 runs, 1 loop each)\n"
          ]
        }
      ],
      "source": [
        "# Run this cell to check the performance of above implementation.\n",
        "%timeit pareto_new_gpu(x,b)"
      ]
    },
    {
      "cell_type": "markdown",
      "metadata": {
        "id": "3K1wGA-gXbZ5"
      },
      "source": [
        "# Q3"
      ]
    },
    {
      "cell_type": "code",
      "execution_count": null,
      "metadata": {
        "collapsed": true,
        "id": "wpcJzKRsXbZ5"
      },
      "outputs": [],
      "source": [
        "# Create on device memory variables here.\n",
        "x1 = cuda.to_device(x)\n",
        "y1 = cuda.to_device(b)\n",
        "\n",
        "out_device = cuda.device_array(shape=x.shape, dtype=np.float64)"
      ]
    },
    {
      "cell_type": "code",
      "execution_count": null,
      "metadata": {
        "id": "tY5S9RIkXbZ5",
        "outputId": "da2e3447-b9af-4ae6-ecde-9d02483c6933"
      },
      "outputs": [
        {
          "name": "stdout",
          "output_type": "stream",
          "text": [
            "824 µs ± 112 µs per loop (mean ± std. dev. of 7 runs, 1000 loops each)\n"
          ]
        }
      ],
      "source": [
        "%timeit pareto_new_gpu(x1,y1,out = out_device)"
      ]
    },
    {
      "cell_type": "code",
      "execution_count": null,
      "metadata": {
        "collapsed": true,
        "id": "l7p-H7M6XbZ6"
      },
      "outputs": [],
      "source": [
        "out_host = out_device.copy_to_host()"
      ]
    },
    {
      "cell_type": "code",
      "execution_count": null,
      "metadata": {
        "id": "4dR38SxTXbZ6",
        "outputId": "cb53ee7f-7fe2-4df7-f1c8-f1ac1f481daf"
      },
      "outputs": [
        {
          "data": {
            "text/plain": [
              "(1000000,)"
            ]
          },
          "execution_count": 24,
          "metadata": {},
          "output_type": "execute_result"
        }
      ],
      "source": [
        "out_host.shape"
      ]
    },
    {
      "cell_type": "code",
      "execution_count": null,
      "metadata": {
        "id": "KyUq63uCXbZ6",
        "outputId": "d61911b4-69d8-4108-805e-0783bf21ffd3"
      },
      "outputs": [
        {
          "data": {
            "text/plain": [
              "[<matplotlib.lines.Line2D at 0x7f0db0230e80>]"
            ]
          },
          "execution_count": 25,
          "metadata": {},
          "output_type": "execute_result"
        }
      ],
      "source": [
        "ax.plot(x, out_host,'r-')"
      ]
    },
    {
      "cell_type": "code",
      "execution_count": null,
      "metadata": {
        "id": "p22SnIaJXbZ6",
        "outputId": "219bb75c-d440-4fa2-b457-5565124daf70"
      },
      "outputs": [
        {
          "data": {
            "image/png": "[encoded data removed]",
            "text/plain": [
              "<matplotlib.figure.Figure at 0x7f0d9f5db780>"
            ]
          },
          "metadata": {},
          "output_type": "display_data"
        },
        {
          "data": {
            "image/png": "[encoded data removed]",
            "text/plain": [
              "<matplotlib.figure.Figure at 0x7f0d94068f28>"
            ]
          },
          "metadata": {},
          "output_type": "display_data"
        },
        {
          "data": {
            "image/png": "[encoded data removed]",
            "text/plain": [
              "<matplotlib.figure.Figure at 0x7f0db02a54a8>"
            ]
          },
          "metadata": {},
          "output_type": "display_data"
        }
      ],
      "source": [
        "plt.show()"
      ]
    },
    {
      "cell_type": "code",
      "execution_count": null,
      "metadata": {
        "collapsed": true,
        "id": "rbIEmDHCXbZ6"
      },
      "outputs": [],
      "source": []
    }
  ],
  "metadata": {
    "colab": {
      "provenance": []
    },
    "kernelspec": {
      "display_name": "Python 3",
      "language": "python",
      "name": "python3"
    },
    "language_info": {
      "codemirror_mode": {
        "name": "ipython",
        "version": 3
      },
      "file_extension": ".py",
      "mimetype": "text/x-python",
      "name": "python",
      "nbconvert_exporter": "python",
      "pygments_lexer": "ipython3",
      "version": "3.8.3"
    }
  },
  "nbformat": 4,
  "nbformat_minor": 0
}